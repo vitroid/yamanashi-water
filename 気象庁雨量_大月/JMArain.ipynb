{
 "cells": [
  {
   "cell_type": "code",
   "execution_count": 1,
   "metadata": {},
   "outputs": [],
   "source": [
    "try:\n",
    "    # On Google Colab\n",
    "    from google.colab import drive\n",
    "\n",
    "    drive.mount(\"/content/drive\")\n",
    "\n",
    "    BASEDIR = (\n",
    "        \"drive/MyDrive/DataAnalysis/相模湖・津久井湖土地・水質/yamanashi-water/model2024/\"\n",
    "    )\n",
    "    ! pip install japanize_matplotlib\n",
    "except:\n",
    "    BASEDIR = \"./\"\n"
   ]
  },
  {
   "cell_type": "code",
   "execution_count": 13,
   "metadata": {},
   "outputs": [
    {
     "name": "stdout",
     "output_type": "stream",
     "text": [
      "                   datetime  value  QTY  HOMO   unixtime\n",
      "0 2000-04-01 01:00:00+09:00    0.0    8     1  954518400\n",
      "1 2000-04-01 02:00:00+09:00    0.0    8     1  954522000\n",
      "2 2000-04-01 03:00:00+09:00    0.0    8     1  954525600\n",
      "3 2000-04-01 04:00:00+09:00    0.0    8     1  954529200\n",
      "4 2000-04-01 05:00:00+09:00    0.0    8     1  954532800\n"
     ]
    }
   ],
   "source": [
    "import pandas as pd\n",
    "\n",
    "dfs = []\n",
    "for year in range(2000, 2024):\n",
    "    df = pd.read_csv(f\"{year}.csv\", skiprows=4, header=0, encoding=\"ShiftJIS\")\n",
    "    dfs.append(df)\n",
    "\n",
    "dfs = pd.concat(dfs, axis=0)\n",
    "dfs.columns = [\"datetime\", \"value\", \"QTY\", \"HOMO\"]\n",
    "dfs[\"datetime\"] = pd.to_datetime(dfs.datetime).dt.tz_localize(\"Asia/Tokyo\")\n",
    "dfs[\"unixtime\"] = dfs[\"datetime\"].astype(int) // 10**9\n",
    "print(dfs.head())"
   ]
  },
  {
   "cell_type": "code",
   "execution_count": null,
   "metadata": {},
   "outputs": [],
   "source": []
  }
 ],
 "metadata": {
  "kernelspec": {
   "display_name": "yamanashi-water-DFZVMwBU",
   "language": "python",
   "name": "python3"
  },
  "language_info": {
   "codemirror_mode": {
    "name": "ipython",
    "version": 3
   },
   "file_extension": ".py",
   "mimetype": "text/x-python",
   "name": "python",
   "nbconvert_exporter": "python",
   "pygments_lexer": "ipython3",
   "version": "3.11.4"
  }
 },
 "nbformat": 4,
 "nbformat_minor": 2
}
